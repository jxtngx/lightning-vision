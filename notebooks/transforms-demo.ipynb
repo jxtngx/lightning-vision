{
 "cells": [
  {
   "attachments": {},
   "cell_type": "markdown",
   "metadata": {},
   "source": [
    "# Overview\n",
    "\n",
    "This notebook shows the effects of the chosen transforms on CIFAR 10 images."
   ]
  },
  {
   "cell_type": "code",
   "execution_count": null,
   "metadata": {},
   "outputs": [],
   "source": [
    "import torch\n",
    "import numpy as np\n",
    "import plotly.express as px\n",
    "from visionpod import config\n",
    "from torchvision.datasets import CIFAR10\n",
    "from torchvision import transforms\n",
    "from torch.nn.functional import cosine_similarity"
   ]
  },
  {
   "attachments": {},
   "cell_type": "markdown",
   "metadata": {},
   "source": [
    "## Mean and Standard Deviation Used in Normalization and Inverse Normalization"
   ]
  },
  {
   "cell_type": "code",
   "execution_count": null,
   "metadata": {},
   "outputs": [],
   "source": [
    "mean = [0.49139968, 0.48215841, 0.44653091]\n",
    "stddev = [0.24703223, 0.24348513, 0.26158784]\n",
    "inverse_mean = [-i for i in mean]\n",
    "inverse_stddev = [1/i for i in stddev]"
   ]
  },
  {
   "attachments": {},
   "cell_type": "markdown",
   "metadata": {},
   "source": [
    "## Transforms"
   ]
  },
  {
   "attachments": {},
   "cell_type": "markdown",
   "metadata": {},
   "source": [
    "The CIFAR 10 AutoAugment Policys is shown below:\n",
    "\n",
    "```python\n",
    "((\"Invert\", 0.1, None), (\"Contrast\", 0.2, 6)),\n",
    "((\"Rotate\", 0.7, 2), (\"TranslateX\", 0.3, 9)),\n",
    "((\"Sharpness\", 0.8, 1), (\"Sharpness\", 0.9, 3)),\n",
    "((\"ShearY\", 0.5, 8), (\"TranslateY\", 0.7, 9)),\n",
    "((\"AutoContrast\", 0.5, None), (\"Equalize\", 0.9, None)),\n",
    "((\"ShearY\", 0.2, 7), (\"Posterize\", 0.3, 7)),\n",
    "((\"Color\", 0.4, 3), (\"Brightness\", 0.6, 7)),\n",
    "((\"Sharpness\", 0.3, 9), (\"Brightness\", 0.7, 9)),\n",
    "((\"Equalize\", 0.6, None), (\"Equalize\", 0.5, None)),\n",
    "((\"Contrast\", 0.6, 7), (\"Sharpness\", 0.6, 5)),\n",
    "((\"Color\", 0.7, 7), (\"TranslateX\", 0.5, 8)),\n",
    "((\"Equalize\", 0.3, None), (\"AutoContrast\", 0.4, None)),\n",
    "((\"TranslateY\", 0.4, 3), (\"Sharpness\", 0.2, 6)),\n",
    "((\"Brightness\", 0.9, 6), (\"Color\", 0.2, 8)),\n",
    "((\"Solarize\", 0.5, 2), (\"Invert\", 0.0, None)),\n",
    "((\"Equalize\", 0.2, None), (\"AutoContrast\", 0.6, None)),\n",
    "((\"Equalize\", 0.2, None), (\"Equalize\", 0.6, None)),\n",
    "((\"Color\", 0.9, 9), (\"Equalize\", 0.6, None)),\n",
    "((\"AutoContrast\", 0.8, None), (\"Solarize\", 0.2, 8)),\n",
    "((\"Brightness\", 0.1, 3), (\"Color\", 0.7, 0)),\n",
    "((\"Solarize\", 0.4, 5), (\"AutoContrast\", 0.9, None)),\n",
    "((\"TranslateY\", 0.9, 9), (\"TranslateY\", 0.7, 9)),\n",
    "((\"AutoContrast\", 0.9, None), (\"Solarize\", 0.8, 3)),\n",
    "((\"Equalize\", 0.8, None), (\"Invert\", 0.1, None)),\n",
    "((\"TranslateY\", 0.7, 9), (\"AutoContrast\", 0.9, None)),\n",
    "```"
   ]
  },
  {
   "cell_type": "code",
   "execution_count": null,
   "metadata": {},
   "outputs": [],
   "source": [
    "cifar_norm = transforms.Normalize(mean=mean, std=stddev)\n",
    "test_transform = transforms.Compose([transforms.ToTensor()])\n",
    "train_transform = transforms.Compose(\n",
    "    [\n",
    "        transforms.AutoAugment(policy=transforms.AutoAugmentPolicy.CIFAR10),\n",
    "        transforms.ToTensor(),\n",
    "    ]\n",
    ")\n",
    "norm_train_transform = transforms.Compose(\n",
    "    [\n",
    "        transforms.AutoAugment(policy=transforms.AutoAugmentPolicy.CIFAR10),\n",
    "        transforms.ToTensor(),\n",
    "        cifar_norm,\n",
    "    ]\n",
    ")\n",
    "norm_test_transform = transforms.Compose([transforms.ToTensor(), cifar_norm])\n",
    "# see https://discuss.pytorch.org/t/simple-way-to-inverse-transform-normalization/4821\n",
    "inverse_transform = transforms.Compose(\n",
    "    [\n",
    "        transforms.Normalize(mean=[0.0, 0.0, 0.0], std=inverse_stddev),\n",
    "        transforms.Normalize(mean=inverse_mean, std=[1.0, 1.0, 1.0]),\n",
    "    ]\n",
    ")"
   ]
  },
  {
   "attachments": {},
   "cell_type": "markdown",
   "metadata": {},
   "source": [
    "## Read in the CIFAR 10 Dataset and Take a Single Sample PIL Image"
   ]
  },
  {
   "cell_type": "code",
   "execution_count": null,
   "metadata": {},
   "outputs": [],
   "source": [
    "torch.manual_seed(42)\n",
    "dataset = CIFAR10(config.Paths.dataset, download=False)\n",
    "image = dataset[0][0]"
   ]
  },
  {
   "cell_type": "code",
   "execution_count": null,
   "metadata": {},
   "outputs": [],
   "source": [
    "def create_figure(image, title_text):\n",
    "    image = np.transpose(image.numpy(), (1, 2, 0))\n",
    "    fig = px.imshow(image)\n",
    "    fig.update_layout(\n",
    "        title=dict(\n",
    "            text=title_text,\n",
    "            font_family=\"Ucityweb, sans-serif\",\n",
    "            font=dict(size=24),\n",
    "            y=0.05,\n",
    "            yanchor=\"bottom\",\n",
    "            x=0.5,\n",
    "        ),\n",
    "        height=300,\n",
    "    )\n",
    "    return fig"
   ]
  },
  {
   "attachments": {},
   "cell_type": "markdown",
   "metadata": {},
   "source": [
    "## The Sample Image with No Augmentations or Normalization"
   ]
  },
  {
   "cell_type": "code",
   "execution_count": null,
   "metadata": {},
   "outputs": [],
   "source": [
    "raw_image_tensor = test_transform(image)\n",
    "create_figure(raw_image_tensor, \"raw image\")"
   ]
  },
  {
   "attachments": {},
   "cell_type": "markdown",
   "metadata": {},
   "source": [
    "## The Sample Image with CIFAR 10 Augmentation Policy and No Normalization"
   ]
  },
  {
   "cell_type": "code",
   "execution_count": null,
   "metadata": {},
   "outputs": [],
   "source": [
    "transformed_image = train_transform(image)\n",
    "create_figure(transformed_image, \"augmented image\")"
   ]
  },
  {
   "attachments": {},
   "cell_type": "markdown",
   "metadata": {},
   "source": [
    "## The Transformed Image with Norming Applied"
   ]
  },
  {
   "cell_type": "code",
   "execution_count": null,
   "metadata": {},
   "outputs": [],
   "source": [
    "normed_image = cifar_norm(transformed_image)\n",
    "create_figure(normed_image, \"normalized image\")"
   ]
  },
  {
   "attachments": {},
   "cell_type": "markdown",
   "metadata": {},
   "source": [
    "## The Tranformed Image with Inverse Normalization"
   ]
  },
  {
   "cell_type": "code",
   "execution_count": null,
   "metadata": {},
   "outputs": [],
   "source": [
    "inversed_transform_image = inverse_transform(normed_image)\n",
    "create_figure(inversed_transform_image, 'inversed transform image')"
   ]
  },
  {
   "attachments": {},
   "cell_type": "markdown",
   "metadata": {},
   "source": [
    "## Check that the Cosine Similarity is 1"
   ]
  },
  {
   "cell_type": "code",
   "execution_count": null,
   "metadata": {},
   "outputs": [],
   "source": [
    "cosine_similarity(inversed_transform_image.flatten(), transformed_image.flatten(), dim=0)"
   ]
  }
 ],
 "metadata": {
  "kernelspec": {
   "display_name": ".venv",
   "language": "python",
   "name": "python3"
  },
  "language_info": {
   "codemirror_mode": {
    "name": "ipython",
    "version": 3
   },
   "file_extension": ".py",
   "mimetype": "text/x-python",
   "name": "python",
   "nbconvert_exporter": "python",
   "pygments_lexer": "ipython3",
   "version": "3.10.7"
  },
  "orig_nbformat": 4
 },
 "nbformat": 4,
 "nbformat_minor": 2
}
